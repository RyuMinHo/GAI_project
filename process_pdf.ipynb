{
  "nbformat": 4,
  "nbformat_minor": 0,
  "metadata": {
    "colab": {
      "provenance": [],
      "authorship_tag": "ABX9TyOwjO8agSQqZEXphup87xsX",
      "include_colab_link": true
    },
    "kernelspec": {
      "name": "python3",
      "display_name": "Python 3"
    },
    "language_info": {
      "name": "python"
    }
  },
  "cells": [
    {
      "cell_type": "markdown",
      "metadata": {
        "id": "view-in-github",
        "colab_type": "text"
      },
      "source": [
        "<a href=\"https://colab.research.google.com/github/RyuMinHo/GAI_project/blob/main/process_pdf.ipynb\" target=\"_parent\"><img src=\"https://colab.research.google.com/assets/colab-badge.svg\" alt=\"Open In Colab\"/></a>"
      ]
    },
    {
      "cell_type": "markdown",
      "source": [
        "# 1. 라이브러리 install"
      ],
      "metadata": {
        "id": "QL20m1Vj1FKx"
      }
    },
    {
      "cell_type": "code",
      "source": [
        "!pip install faiss-cpu\n",
        "!pip install spacy\n",
        "!pip install PyPDF2\n",
        "!pip install gradio\n",
        "!pip install tiktoken\n",
        "!python -m spacy download en_core_web_md\n",
        "!pip install spacy[ko]\n",
        "!python -m spacy download ko_core_news_md"
      ],
      "metadata": {
        "id": "6MeIbtJ99F2d"
      },
      "execution_count": null,
      "outputs": []
    },
    {
      "cell_type": "markdown",
      "source": [
        "# 2. 라이브러리 import"
      ],
      "metadata": {
        "id": "54tfr0hi1J7_"
      }
    },
    {
      "cell_type": "code",
      "source": [
        "import gradio as gr\n",
        "from PyPDF2 import PdfReader\n",
        "import spacy\n",
        "from transformers import AutoTokenizer\n",
        "import tiktoken\n",
        "from sentence_transformers import SentenceTransformer\n",
        "import faiss\n",
        "import time"
      ],
      "metadata": {
        "id": "z8ZyBMBE1Mig"
      },
      "execution_count": null,
      "outputs": []
    },
    {
      "cell_type": "markdown",
      "source": [
        "# 3. 멀티 모달"
      ],
      "metadata": {
        "id": "kyy_oUBm1OiX"
      }
    },
    {
      "cell_type": "code",
      "source": [
        "def print_like_dislike(x: gr.LikeData):\n",
        "    print(x.index, x.value, x.liked)\n",
        "\n",
        "def add_message(history, message):\n",
        "    for file in message[\"files\"]:\n",
        "        try:\n",
        "            history.append({\"role\": \"user\", \"content\": {\"path\": file}})\n",
        "            text = message.get(\"text\", None)\n",
        "            if text:\n",
        "                history.append({\"role\": \"user\", \"content\": text})\n",
        "\n",
        "            result = process_pdf(file, text)\n",
        "            history.append({\"role\": \"assistant\", \"content\": result})\n",
        "\n",
        "        except Exception as e:\n",
        "            history.append({\"role\": \"assistant\", \"content\": f\"Invalid PDF file: {str(e)}\"})\n",
        "\n",
        "    if not message[\"files\"] and message[\"text\"]:\n",
        "        history.append({\"role\": \"user\", \"content\": message[\"text\"]})\n",
        "\n",
        "    return history, gr.MultimodalTextbox(value=None, interactive=False)\n",
        "\n",
        "\n",
        "def bot(history: list):\n",
        "    response = \"**That's cool!**\"\n",
        "    history.append({\"role\": \"assistant\", \"content\": \"\"})\n",
        "    for character in response:\n",
        "        history[-1][\"content\"] += character\n",
        "        time.sleep(0.05)\n",
        "        yield history"
      ],
      "metadata": {
        "id": "wpkrFcUo1RKX"
      },
      "execution_count": null,
      "outputs": []
    },
    {
      "cell_type": "markdown",
      "source": [
        "# 4. pdf 처리"
      ],
      "metadata": {
        "id": "Du77JvBX1Tc_"
      }
    },
    {
      "cell_type": "code",
      "source": [
        "# pdf파일에서 text 추출\n",
        "def process_pdf(file_path):\n",
        "    reader = PdfReader(file_path)\n",
        "    text = \"\"\n",
        "    for page in reader.pages:\n",
        "        text += page.extract_text()\n",
        "    return chunck_text(text)\n",
        "\n",
        "# 문장 단위로 chunking\n",
        "def chunck_text(text):\n",
        "    nlp = spacy.load(\"en_core_web_sm\")\n",
        "    nlp_kor = spacy.load(\"ko_core_news_md\")\n",
        "    doc=nlp(text)\n",
        "    chunks = []\n",
        "\n",
        "    for sent in doc.sents: #단어 수를 기준으로 한국어/영어 모델 구분 사용\n",
        "      count_eng=0\n",
        "      count_kor=0\n",
        "\n",
        "      for token in sent.text:\n",
        "            if \"\\u3131\" <= token <= \"\\uD79D\":\n",
        "                count_kor += 1\n",
        "            elif token.isalpha():\n",
        "                count_eng += 1\n",
        "      if count_kor > count_eng:\n",
        "        processed_doc = nlp_kor(sent.text)\n",
        "      else:\n",
        "        processed_doc = nlp(sent.text)\n",
        "\n",
        "      chunks.append(\"\".join([token.text_with_ws for token in processed_doc]).strip())\n",
        "\n",
        "    return chunks\n",
        "\n",
        "# 청크 임베딩 -> top-k\n",
        "def index_chuncks(chunks, query, k=5):\n",
        "    model = SentenceTransformer('paraphrase-multilingual-mpnet-base-v2')\n",
        "    embedding_chunks = model.encode(chunks)\n",
        "\n",
        "    dim=embedding_chunks.shape[1]\n",
        "    index = faiss.IndexFlatL2(dim)\n",
        "    index.add(embedding_chunks)\n",
        "\n",
        "    embedding_query = model.encode([query])\n",
        "    distances, indices = index.search(embedding_query, k)\n",
        "\n",
        "    results = list(zip(indices[0], distances[0]))\n",
        "    return results\n"
      ],
      "metadata": {
        "id": "wBgRn9g01WtQ"
      },
      "execution_count": null,
      "outputs": []
    },
    {
      "cell_type": "markdown",
      "source": [
        "# 5. gui"
      ],
      "metadata": {
        "id": "VlMdY2cr8-dM"
      }
    },
    {
      "cell_type": "code",
      "source": [
        "with gr.Blocks() as demo:\n",
        "    chatbot = gr.Chatbot(elem_id=\"chatbot\", bubble_full_width=False, type=\"messages\")\n",
        "    chat_input = gr.MultimodalTextbox(\n",
        "        interactive=True,\n",
        "        file_count=\"multiple\",\n",
        "        placeholder=\"Enter message or upload file...\",\n",
        "        show_label=False,\n",
        "    )\n",
        "    chat_msg = chat_input.submit(\n",
        "        add_message, [chatbot, chat_input], [chatbot, chat_input]\n",
        "    )\n",
        "    bot_msg = chat_msg.then(bot, chatbot, chatbot, api_name=\"bot_response\")\n",
        "    bot_msg.then(lambda: gr.MultimodalTextbox(interactive=True), None, [chat_input])\n",
        "    chatbot.like(print_like_dislike, None, None, like_user_message=True)\n",
        "\n",
        "    demo.launch()"
      ],
      "metadata": {
        "id": "LUz040669CaN"
      },
      "execution_count": null,
      "outputs": []
    }
  ]
}