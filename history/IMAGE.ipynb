{
 "cells": [
  {
   "cell_type": "markdown",
   "metadata": {},
   "source": [
    "!pip install gradio vllm transformers triton PyPDF2 Pillow sentence_transformers numpy typing faiss-gpu spacy pymupdf4llm fitz frontend tools semchunk"
   ]
  },
  {
   "cell_type": "code",
   "execution_count": null,
   "metadata": {},
   "outputs": [],
   "source": [
    "import gradio as gr\n",
    "import faiss\n",
    "import numpy as np\n",
    "import spacy\n",
    "from sentence_transformers import SentenceTransformer\n",
    "import os\n",
    "import time\n",
    "import semchunk\n",
    "import pymupdf as fitz\n",
    "import pymupdf4llm\n",
    "from vllm import LLM, SamplingParams\n",
    "from typing import List, Tuple, Dict, Optional\n",
    "from PIL import Image\n",
    "import hashlib\n",
    "import logging"
   ]
  },
  {
   "cell_type": "code",
   "execution_count": null,
   "metadata": {},
   "outputs": [],
   "source": [
    "class LLaVAImageQAProcessor:\n",
    "    def __init__(self):\n",
    "        self.llm = LLM(model=\"llava-hf/llava-v1.6-mistral-7b-hf\", dtype='half', max_model_len=8192)\n",
    "        self.sampling_params = SamplingParams(temperature=0.7, max_tokens=512)\n",
    "\n",
    "    def get_prompt(self, question: str):\n",
    "        return f\"\"\"[INST] \n",
    "                    Explain me about this image precisely in bullet points. \n",
    "                    Your response shuold be in complete sentences.\n",
    "                    <image>\\n{question} [/INST]\"\"\"\n",
    "\n",
    "    def process_image(self, image_path, question):\n",
    "        prompt = self.get_prompt(question)\n",
    "        image = Image.open(image_path)\n",
    "\n",
    "        inputs = {\n",
    "            \"prompt\": prompt,\n",
    "            \"multi_modal_data\": {\"image\": image},\n",
    "        }\n",
    "\n",
    "        outputs = self.llm.generate(inputs, sampling_params=self.sampling_params)\n",
    "        return outputs[0].outputs[0].text"
   ]
  },
  {
   "cell_type": "code",
   "execution_count": null,
   "metadata": {},
   "outputs": [],
   "source": [
    "# 클래스 초기화\n",
    "img_processor = LLaVAImageQAProcessor()\n",
    "\n",
    "# 이미지 경로 입력\n",
    "image_path = \"/content/image.jpg\"\n",
    "\n",
    "# 사용자 입력 받기\n",
    "while True:\n",
    "    query = input(\"\\n질문을 입력하세요 (종료하려면 'exit' 입력): \")\n",
    "    \n",
    "    if query.lower() == \"exit\":\n",
    "        print(\"프로그램을 종료합니다.\")\n",
    "        break\n",
    "\n",
    "    # 이미지와 질문 처리\n",
    "    result = img_processor.process_image(image_path, query)\n",
    "    \n",
    "    # 결과 출력\n",
    "    print(\"\\n답변:\")\n",
    "    print(result)"
   ]
  }
 ],
 "metadata": {
  "language_info": {
   "name": "python"
  }
 },
 "nbformat": 4,
 "nbformat_minor": 2
}
